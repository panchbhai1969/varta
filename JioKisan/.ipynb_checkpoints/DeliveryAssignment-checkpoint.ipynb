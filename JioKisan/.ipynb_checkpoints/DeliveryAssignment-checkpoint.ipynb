{
 "cells": [
  {
   "cell_type": "code",
   "execution_count": 53,
   "metadata": {},
   "outputs": [],
   "source": [
    "import os\n",
    "os.environ.setdefault('DJANGO_SETTINGS_MODULE', 'JioKisan.settings')\n",
    "\n",
    "import django\n",
    "django.setup()"
   ]
  },
  {
   "cell_type": "code",
   "execution_count": 54,
   "metadata": {},
   "outputs": [],
   "source": [
    "from trucks.models import Driver,Delivery\n",
    "import numpy as np"
   ]
  },
  {
   "cell_type": "code",
   "execution_count": 55,
   "metadata": {},
   "outputs": [
    {
     "data": {
      "text/plain": [
       "0"
      ]
     },
     "execution_count": 55,
     "metadata": {},
     "output_type": "execute_result"
    }
   ],
   "source": [
    "# Drivers which are not hired\n",
    "# Consignments which are pending\n",
    "drivers = Driver.objects.all().filter(hired=False)\n",
    "consignments = Delivery.objects.all().filter(status=\"PENDING\") # ADD FURTHER FILTERS LIKE PICKUP date if required\n",
    "\n",
    "num_drivers = drivers.count()\n",
    "num_consignments = consignments.count()\n",
    "\n",
    "# A square matrix representing driverLocation(all) , conignmentLocationPickup, conignmentLocationDrop \n",
    "# addreses (all consignment one by one) in a row\n",
    "# This matrix will contain road distance obtained by DistanceMatrixAPI\n",
    "num_drivers"
   ]
  },
  {
   "cell_type": "code",
   "execution_count": 37,
   "metadata": {},
   "outputs": [],
   "source": [
    "\n",
    "\n",
    "def initializeMappingList(num_drivers, num_consignments, drivers, consignments):\n",
    "\n",
    "    # A list of dicts map indices of driver/pickup/drop  \n",
    "    mappingList = []\n",
    "    for i in range(num_drivers+2*num_consignments):\n",
    "        if(i<num_drivers):\n",
    "            entryType = 'Driver'\n",
    "            pk = drivers[i].pk\n",
    "            address = str(drivers[i].currentPositionLatitude)+','+str(drivers[i].currentPositionLongitude) \n",
    "            weight = drivers[i].truckCapacity\n",
    "        else:\n",
    "            k=i-num_drivers\n",
    "            consignmentEntry_index = int(k/2)\n",
    "\n",
    "            if(k%2==0):\n",
    "                entryType = 'Pickup Location'\n",
    "                pk = consignments[consignmentEntry_index].pk\n",
    "                address = str(consignments[consignmentEntry_index].pickupLocationLatitude) + ',' + str(consignments[consignmentEntry_index].pickupLocationLongitude)\n",
    "\n",
    "            else:\n",
    "                entryType = 'Drop Location'\n",
    "                pk = consignments[consignmentEntry_index].pk\n",
    "                address = str(consignments[consignmentEntry_index].dropLocationLatitude) + ',' + str(consignments[consignmentEntry_index].dropLocationLongitude)\n",
    "\n",
    "            weight = consignments[consignmentEntry_index].weight\n",
    "            \n",
    "        infoDict = {\n",
    "            'entryType' : entryType,\n",
    "            'pk' : pk,\n",
    "            'address' : address,\n",
    "            'weight' : weight\n",
    "        } \n",
    "\n",
    "        mappingList.append(infoDict)\n",
    "        \n",
    "    return mappingList\n"
   ]
  },
  {
   "cell_type": "code",
   "execution_count": 41,
   "metadata": {},
   "outputs": [],
   "source": [
    "def fillDistanceMatrix(originList, destinationList):\n",
    "    \n",
    "    distanceMatrix = np.random.randint(1,15,size=(len(destinationList),len(originList)))\n",
    "    \n",
    "    maxValue = distanceMatrix.max()\n",
    "    \n",
    "    \n",
    "    for i in originList:\n",
    "        if i['entryType'] == 'Driver':\n",
    "            for j in destinationList:\n",
    "                if (j['entryType'] == 'Pickup Location') and (j['weight']>i['weight']):\n",
    "                    distanceMatrix[destinationList.index(j)][originList.index(i)] = maxValue + 1\n",
    "                    \n",
    "                    \n",
    "    \n",
    "    return distanceMatrix\n"
   ]
  },
  {
   "cell_type": "code",
   "execution_count": 42,
   "metadata": {},
   "outputs": [],
   "source": [
    "def driverDeliveryAssignment(mappingList, num_drivers, num_consignments):\n",
    "    # This List will Contain indexes of location in mappingList and in order for driver has to go \n",
    "    locations = []\n",
    "    assignedConsignments_num = 0\n",
    "    # A list dictionaries like info dict containing only pickup location parts of assigned consignments\n",
    "    assignedConsignments = []  \n",
    "    \n",
    "    originList = [ mappingList[i] for i in range(num_drivers) ]\n",
    "    destinationList = [ mappingList[i] for i in range(num_drivers, len(mappingList), 2) ]\n",
    " \n",
    "    \n",
    "    for i in originList:\n",
    "        if i['entryType']!='Driver':\n",
    "            print('Something Wrong in Origin List')\n",
    "            \n",
    "    \n",
    "    for i in destinationList:\n",
    "        if i['entryType']!='Pickup Location':\n",
    "            print('Something Wrong in Destination List')\n",
    "    \n",
    "    \n",
    "       \n",
    "    # Origins are along column & destinations are along rows\n",
    "#     distanceMatrix = np.zeros(shape=(len(destinationList),len(originList)))\n",
    "    \n",
    "    #Compute Distances \n",
    "    distanceMatrix = fillDistanceMatrix(originList, destinationList) \n",
    "    \n",
    "\n",
    "    firstPickup_index = np.where(distanceMatrix == np.min(distanceMatrix))[0][0] \n",
    "    firstDriver_index =  np.where(distanceMatrix == np.min(distanceMatrix))[1][0]\n",
    "    \n",
    "    firstPickup = destinationList[firstPickup_index]\n",
    "    \n",
    "    firstDriver = originList[firstDriver_index]\n",
    "    \n",
    "\n",
    "    #    let myDriver be a driver object from django model while \n",
    "    #   firstDriver is dictionary containing details about myDriver including pk    \n",
    "    \n",
    "    #  Make this driver hired.\n",
    "   \n",
    "    assignedConsignments_num = 1\n",
    "    locations.append(firstPickup)\n",
    "    \n",
    "    \n",
    "    loadedWeight = firstPickup['weight']\n",
    "    \n",
    "    print('Got the first pickup loaded weight is ', loadedWeight, 'truck weight is ', firstDriver['weight'])\n",
    "    \n",
    "    originList = []\n",
    "    originList.append(firstPickup)\n",
    "    destinationList.remove(firstPickup)\n",
    "    destinationList.append(mappingList[mappingList.index(firstPickup)+1])\n",
    "    assignedConsignments.append(firstPickup)\n",
    "    \n",
    "    \n",
    "    \n",
    "    \n",
    "    while(len(destinationList)>0):\n",
    "    \n",
    "        # We have to filter left consignments according to truck capacity or further filters can be added here\n",
    "        # An example of another filter may me to remove consignments with different crop\n",
    "        removeIndices = []\n",
    "        for i in destinationList:\n",
    "            if i['entryType'] == 'Pickup Location':   # A drop location might still be in destination list\n",
    "                if loadedWeight + i['weight'] > firstDriver['weight']:\n",
    "                    removeIndices.append(i)      # Remove Delivery with more weight\n",
    "        for i in removeIndices:\n",
    "            destinationList.remove(i)\n",
    "                    \n",
    "        \n",
    "        \n",
    "        \n",
    "        distanceMatrix = fillDistanceMatrix(originList, destinationList)\n",
    "        \n",
    "        \n",
    "        nextLocation_index = firstPickup_index = np.where(distanceMatrix == np.min(distanceMatrix))[0][0]\n",
    "    \n",
    "        nextLocation = destinationList[nextLocation_index]\n",
    "        \n",
    "        destinationList.remove(nextLocation)\n",
    "        \n",
    "        \n",
    "        \n",
    "        if(nextLocation['entryType'] == 'Pickup Location'):\n",
    "            assignedConsignments_num = assignedConsignments_num + 1\n",
    "            if(assignedConsignments_num<6):\n",
    "                loadedWeight = loadedWeight + nextLocation['weight']\n",
    "                assignedConsignments.append(nextLocation)\n",
    "                locations.append(nextLocation)\n",
    "                destinationList.append(mappingList[mappingList.index(nextLocation)+1])\n",
    "        \n",
    "        else:\n",
    "            locations.append(nextLocation)\n",
    "            \n",
    "    \n",
    "    \n",
    "    return firstDriver, locations, assignedConsignments\n",
    "    \n",
    "    \n",
    "    \n",
    "    \n",
    "\n",
    "\n",
    "\n",
    "\n",
    "\n",
    "\n",
    "\n",
    "\n",
    "\n",
    "\n",
    "\n",
    "\n",
    "\n",
    "\n",
    "\n"
   ]
  },
  {
   "cell_type": "code",
   "execution_count": 46,
   "metadata": {},
   "outputs": [
    {
     "data": {
      "text/plain": [
       "0"
      ]
     },
     "execution_count": 46,
     "metadata": {},
     "output_type": "execute_result"
    }
   ],
   "source": [
    "num_drivers\n"
   ]
  },
  {
   "cell_type": "code",
   "execution_count": 43,
   "metadata": {},
   "outputs": [
    {
     "ename": "SyntaxError",
     "evalue": "unexpected EOF while parsing (<ipython-input-43-15c2d9f81be6>, line 2)",
     "output_type": "error",
     "traceback": [
      "\u001b[0;36m  File \u001b[0;32m\"<ipython-input-43-15c2d9f81be6>\"\u001b[0;36m, line \u001b[0;32m2\u001b[0m\n\u001b[0;31m    \u001b[0m\n\u001b[0m    ^\u001b[0m\n\u001b[0;31mSyntaxError\u001b[0m\u001b[0;31m:\u001b[0m unexpected EOF while parsing\n"
     ]
    }
   ],
   "source": [
    "def pathtoString(pathOfDriver):\n",
    "    "
   ]
  },
  {
   "cell_type": "code",
   "execution_count": 44,
   "metadata": {},
   "outputs": [
    {
     "ename": "SyntaxError",
     "evalue": "invalid syntax (<ipython-input-44-9b16a7b2659a>, line 1)",
     "output_type": "error",
     "traceback": [
      "\u001b[0;36m  File \u001b[0;32m\"<ipython-input-44-9b16a7b2659a>\"\u001b[0;36m, line \u001b[0;32m1\u001b[0m\n\u001b[0;31m    def updateDatabase()\u001b[0m\n\u001b[0m                        ^\u001b[0m\n\u001b[0;31mSyntaxError\u001b[0m\u001b[0;31m:\u001b[0m invalid syntax\n"
     ]
    }
   ],
   "source": [
    "def updateDatabase()"
   ]
  },
  {
   "cell_type": "code",
   "execution_count": 45,
   "metadata": {},
   "outputs": [
    {
     "ename": "ValueError",
     "evalue": "zero-size array to reduction operation maximum which has no identity",
     "output_type": "error",
     "traceback": [
      "\u001b[0;31m---------------------------------------------------------------------------\u001b[0m",
      "\u001b[0;31mValueError\u001b[0m                                Traceback (most recent call last)",
      "\u001b[0;32m<ipython-input-45-363937ac4714>\u001b[0m in \u001b[0;36m<module>\u001b[0;34m\u001b[0m\n\u001b[1;32m      1\u001b[0m \u001b[0mmappingList\u001b[0m \u001b[0;34m=\u001b[0m \u001b[0minitializeMappingList\u001b[0m\u001b[0;34m(\u001b[0m\u001b[0mnum_drivers\u001b[0m\u001b[0;34m,\u001b[0m \u001b[0mnum_consignments\u001b[0m\u001b[0;34m,\u001b[0m \u001b[0mdrivers\u001b[0m\u001b[0;34m,\u001b[0m \u001b[0mconsignments\u001b[0m\u001b[0;34m)\u001b[0m\u001b[0;34m\u001b[0m\u001b[0;34m\u001b[0m\u001b[0m\n\u001b[0;32m----> 2\u001b[0;31m \u001b[0massignedDriver\u001b[0m \u001b[0;34m,\u001b[0m \u001b[0mpathOfDriver\u001b[0m\u001b[0;34m,\u001b[0m \u001b[0massignedConsignments\u001b[0m \u001b[0;34m=\u001b[0m \u001b[0mdriverDeliveryAssignment\u001b[0m\u001b[0;34m(\u001b[0m\u001b[0mmappingList\u001b[0m\u001b[0;34m,\u001b[0m \u001b[0mnum_drivers\u001b[0m\u001b[0;34m,\u001b[0m \u001b[0mnum_consignments\u001b[0m\u001b[0;34m)\u001b[0m\u001b[0;34m\u001b[0m\u001b[0;34m\u001b[0m\u001b[0m\n\u001b[0m",
      "\u001b[0;32m<ipython-input-42-15502b9c8966>\u001b[0m in \u001b[0;36mdriverDeliveryAssignment\u001b[0;34m(mappingList, num_drivers, num_consignments)\u001b[0m\n\u001b[1;32m     25\u001b[0m \u001b[0;34m\u001b[0m\u001b[0m\n\u001b[1;32m     26\u001b[0m     \u001b[0;31m#Compute Distances\u001b[0m\u001b[0;34m\u001b[0m\u001b[0;34m\u001b[0m\u001b[0;34m\u001b[0m\u001b[0m\n\u001b[0;32m---> 27\u001b[0;31m     \u001b[0mdistanceMatrix\u001b[0m \u001b[0;34m=\u001b[0m \u001b[0mfillDistanceMatrix\u001b[0m\u001b[0;34m(\u001b[0m\u001b[0moriginList\u001b[0m\u001b[0;34m,\u001b[0m \u001b[0mdestinationList\u001b[0m\u001b[0;34m)\u001b[0m\u001b[0;34m\u001b[0m\u001b[0;34m\u001b[0m\u001b[0m\n\u001b[0m\u001b[1;32m     28\u001b[0m \u001b[0;34m\u001b[0m\u001b[0m\n\u001b[1;32m     29\u001b[0m \u001b[0;34m\u001b[0m\u001b[0m\n",
      "\u001b[0;32m<ipython-input-41-ab43729e5003>\u001b[0m in \u001b[0;36mfillDistanceMatrix\u001b[0;34m(originList, destinationList)\u001b[0m\n\u001b[1;32m      3\u001b[0m     \u001b[0mdistanceMatrix\u001b[0m \u001b[0;34m=\u001b[0m \u001b[0mnp\u001b[0m\u001b[0;34m.\u001b[0m\u001b[0mrandom\u001b[0m\u001b[0;34m.\u001b[0m\u001b[0mrandint\u001b[0m\u001b[0;34m(\u001b[0m\u001b[0;36m1\u001b[0m\u001b[0;34m,\u001b[0m\u001b[0;36m15\u001b[0m\u001b[0;34m,\u001b[0m\u001b[0msize\u001b[0m\u001b[0;34m=\u001b[0m\u001b[0;34m(\u001b[0m\u001b[0mlen\u001b[0m\u001b[0;34m(\u001b[0m\u001b[0mdestinationList\u001b[0m\u001b[0;34m)\u001b[0m\u001b[0;34m,\u001b[0m\u001b[0mlen\u001b[0m\u001b[0;34m(\u001b[0m\u001b[0moriginList\u001b[0m\u001b[0;34m)\u001b[0m\u001b[0;34m)\u001b[0m\u001b[0;34m)\u001b[0m\u001b[0;34m\u001b[0m\u001b[0;34m\u001b[0m\u001b[0m\n\u001b[1;32m      4\u001b[0m \u001b[0;34m\u001b[0m\u001b[0m\n\u001b[0;32m----> 5\u001b[0;31m     \u001b[0mmaxValue\u001b[0m \u001b[0;34m=\u001b[0m \u001b[0mdistanceMatrix\u001b[0m\u001b[0;34m.\u001b[0m\u001b[0mmax\u001b[0m\u001b[0;34m(\u001b[0m\u001b[0;34m)\u001b[0m\u001b[0;34m\u001b[0m\u001b[0;34m\u001b[0m\u001b[0m\n\u001b[0m\u001b[1;32m      6\u001b[0m \u001b[0;34m\u001b[0m\u001b[0m\n\u001b[1;32m      7\u001b[0m \u001b[0;34m\u001b[0m\u001b[0m\n",
      "\u001b[0;32m/usr/local/lib/python3.6/dist-packages/numpy/core/_methods.py\u001b[0m in \u001b[0;36m_amax\u001b[0;34m(a, axis, out, keepdims, initial)\u001b[0m\n\u001b[1;32m     26\u001b[0m def _amax(a, axis=None, out=None, keepdims=False,\n\u001b[1;32m     27\u001b[0m           initial=_NoValue):\n\u001b[0;32m---> 28\u001b[0;31m     \u001b[0;32mreturn\u001b[0m \u001b[0mumr_maximum\u001b[0m\u001b[0;34m(\u001b[0m\u001b[0ma\u001b[0m\u001b[0;34m,\u001b[0m \u001b[0maxis\u001b[0m\u001b[0;34m,\u001b[0m \u001b[0;32mNone\u001b[0m\u001b[0;34m,\u001b[0m \u001b[0mout\u001b[0m\u001b[0;34m,\u001b[0m \u001b[0mkeepdims\u001b[0m\u001b[0;34m,\u001b[0m \u001b[0minitial\u001b[0m\u001b[0;34m)\u001b[0m\u001b[0;34m\u001b[0m\u001b[0;34m\u001b[0m\u001b[0m\n\u001b[0m\u001b[1;32m     29\u001b[0m \u001b[0;34m\u001b[0m\u001b[0m\n\u001b[1;32m     30\u001b[0m def _amin(a, axis=None, out=None, keepdims=False,\n",
      "\u001b[0;31mValueError\u001b[0m: zero-size array to reduction operation maximum which has no identity"
     ]
    }
   ],
   "source": [
    "mappingList = initializeMappingList(num_drivers, num_consignments, drivers, consignments)\n",
    "assignedDriver , pathOfDriver, assignedConsignments = driverDeliveryAssignment(mappingList, num_drivers, num_consignments)"
   ]
  },
  {
   "cell_type": "code",
   "execution_count": 21,
   "metadata": {},
   "outputs": [
    {
     "data": {
      "text/plain": [
       "{'entryType': 'Driver',\n",
       " 'pk': 4,\n",
       " 'address': '-45.4781655,-116.622792',\n",
       " 'weight': 532}"
      ]
     },
     "execution_count": 21,
     "metadata": {},
     "output_type": "execute_result"
    }
   ],
   "source": [
    "assignedDriver"
   ]
  },
  {
   "cell_type": "code",
   "execution_count": 22,
   "metadata": {},
   "outputs": [
    {
     "data": {
      "text/plain": [
       "[{'entryType': 'Pickup Location',\n",
       "  'pk': 3,\n",
       "  'address': '-35.092251,-79.847088',\n",
       "  'weight': 311},\n",
       " {'entryType': 'Drop Location',\n",
       "  'pk': 3,\n",
       "  'address': '-62.2957545,60.912016',\n",
       "  'weight': 311}]"
      ]
     },
     "execution_count": 22,
     "metadata": {},
     "output_type": "execute_result"
    }
   ],
   "source": [
    "pathOfDriver"
   ]
  },
  {
   "cell_type": "code",
   "execution_count": 23,
   "metadata": {},
   "outputs": [
    {
     "data": {
      "text/plain": [
       "[{'entryType': 'Pickup Location',\n",
       "  'pk': 3,\n",
       "  'address': '-35.092251,-79.847088',\n",
       "  'weight': 311}]"
      ]
     },
     "execution_count": 23,
     "metadata": {},
     "output_type": "execute_result"
    }
   ],
   "source": [
    "assignedConsignments"
   ]
  },
  {
   "cell_type": "code",
   "execution_count": null,
   "metadata": {},
   "outputs": [],
   "source": []
  },
  {
   "cell_type": "markdown",
   "metadata": {},
   "source": [
    "# Testing"
   ]
  },
  {
   "cell_type": "code",
   "execution_count": 38,
   "metadata": {},
   "outputs": [
    {
     "data": {
      "text/plain": [
       "78.14797"
      ]
     },
     "execution_count": 38,
     "metadata": {},
     "output_type": "execute_result"
    }
   ],
   "source": [
    "testDriver = Driver.objects.all().filter(hired=False)\n",
    "testconsignments = Delivery.objects.all().filter(status=\"PENDING\")\n",
    "testconsignments.count()\n",
    "testDriver[0].currentPositionLongitude"
   ]
  },
  {
   "cell_type": "code",
   "execution_count": 40,
   "metadata": {},
   "outputs": [
    {
     "data": {
      "text/plain": [
       "False"
      ]
     },
     "execution_count": 40,
     "metadata": {},
     "output_type": "execute_result"
    }
   ],
   "source": [
    "testDriver[3].hired"
   ]
  },
  {
   "cell_type": "code",
   "execution_count": 40,
   "metadata": {},
   "outputs": [
    {
     "data": {
      "text/plain": [
       "[7, 9, 31, 89]"
      ]
     },
     "execution_count": 40,
     "metadata": {},
     "output_type": "execute_result"
    }
   ],
   "source": [
    "c = 4\n",
    "a = [2, 3, 4, 5, 7, 5, 9, 3, 31, 73, 89, 2]\n",
    "b = [a[2*i] for i in range(int(c/2),int(len(a)/2))]\n",
    "b"
   ]
  },
  {
   "cell_type": "code",
   "execution_count": 15,
   "metadata": {},
   "outputs": [
    {
     "data": {
      "text/plain": [
       "2"
      ]
     },
     "execution_count": 15,
     "metadata": {},
     "output_type": "execute_result"
    }
   ],
   "source": [
    "a.index(4)"
   ]
  },
  {
   "cell_type": "code",
   "execution_count": 46,
   "metadata": {},
   "outputs": [],
   "source": [
    "c = 4\n",
    "a = [2, 3, 4, 5, 7, 5, 9, 3, 31, 73, 89, 2]\n",
    "b = [ a[i] for i in range(c,len(a),2) ] "
   ]
  },
  {
   "cell_type": "code",
   "execution_count": 29,
   "metadata": {},
   "outputs": [
    {
     "name": "stdout",
     "output_type": "stream",
     "text": [
      "7\n",
      "9\n",
      "31\n",
      "89\n"
     ]
    }
   ],
   "source": []
  },
  {
   "cell_type": "code",
   "execution_count": 32,
   "metadata": {},
   "outputs": [
    {
     "data": {
      "text/plain": [
       "9"
      ]
     },
     "execution_count": 32,
     "metadata": {},
     "output_type": "execute_result"
    }
   ],
   "source": [
    "b.pop(1)"
   ]
  },
  {
   "cell_type": "code",
   "execution_count": 52,
   "metadata": {},
   "outputs": [],
   "source": []
  },
  {
   "cell_type": "code",
   "execution_count": 57,
   "metadata": {},
   "outputs": [
    {
     "name": "stdout",
     "output_type": "stream",
     "text": [
      "i =  7\n",
      "i =  9\n",
      "i =  31\n",
      "Removing  31\n",
      "i =  89\n",
      "Removing  89\n"
     ]
    },
    {
     "data": {
      "text/plain": [
       "[7, 9, 8]"
      ]
     },
     "execution_count": 57,
     "metadata": {},
     "output_type": "execute_result"
    }
   ],
   "source": [
    "b = [7, 9, 31, 8, 89]\n",
    "for i in b:\n",
    "    print('i = ', i)\n",
    "    if(i>10):\n",
    "        print(\"Removing \",i)\n",
    "        b.remove(i)\n",
    "b"
   ]
  },
  {
   "cell_type": "code",
   "execution_count": 49,
   "metadata": {},
   "outputs": [
    {
     "data": {
      "text/plain": [
       "[7, 9, 89]"
      ]
     },
     "execution_count": 49,
     "metadata": {},
     "output_type": "execute_result"
    }
   ],
   "source": [
    "b"
   ]
  },
  {
   "cell_type": "code",
   "execution_count": 43,
   "metadata": {},
   "outputs": [
    {
     "data": {
      "text/plain": [
       "[7, 9, 89]"
      ]
     },
     "execution_count": 43,
     "metadata": {},
     "output_type": "execute_result"
    }
   ],
   "source": [
    "b"
   ]
  },
  {
   "cell_type": "code",
   "execution_count": 1,
   "metadata": {},
   "outputs": [],
   "source": [
    "i =1\n"
   ]
  },
  {
   "cell_type": "code",
   "execution_count": 2,
   "metadata": {},
   "outputs": [
    {
     "data": {
      "text/plain": [
       "False"
      ]
     },
     "execution_count": 2,
     "metadata": {},
     "output_type": "execute_result"
    }
   ],
   "source": [
    "i==0"
   ]
  },
  {
   "cell_type": "code",
   "execution_count": null,
   "metadata": {},
   "outputs": [],
   "source": []
  }
 ],
 "metadata": {
  "kernelspec": {
   "display_name": "Python 3",
   "language": "python",
   "name": "python3"
  },
  "language_info": {
   "codemirror_mode": {
    "name": "ipython",
    "version": 3
   },
   "file_extension": ".py",
   "mimetype": "text/x-python",
   "name": "python",
   "nbconvert_exporter": "python",
   "pygments_lexer": "ipython3",
   "version": "3.6.7"
  }
 },
 "nbformat": 4,
 "nbformat_minor": 2
}
